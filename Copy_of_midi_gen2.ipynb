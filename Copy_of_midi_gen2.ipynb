{
  "nbformat": 4,
  "nbformat_minor": 0,
  "metadata": {
    "colab": {
      "private_outputs": true,
      "provenance": []
    },
    "kernelspec": {
      "name": "python3",
      "display_name": "Python 3"
    },
    "language_info": {
      "name": "python"
    },
    "accelerator": "GPU",
    "gpuClass": "standard"
  },
  "cells": [
    {
      "cell_type": "code",
      "source": [
        "from google.colab import drive\n",
        "drive.mount('/content/drive')"
      ],
      "metadata": {
        "id": "ZdbNKSHMw8YW"
      },
      "execution_count": null,
      "outputs": []
    },
    {
      "cell_type": "code",
      "source": [
        "!apt-get install fluidsynth\n",
        "!pip install transformers==4.21.3 wandb blobfile mpi4py pretty_midi"
      ],
      "metadata": {
        "id": "4MmSZHqtxEc8"
      },
      "execution_count": null,
      "outputs": []
    },
    {
      "cell_type": "code",
      "source": [
        "!ls"
      ],
      "metadata": {
        "id": "K9mdO0sYuMwS"
      },
      "execution_count": null,
      "outputs": []
    },
    {
      "cell_type": "markdown",
      "source": [
        "## maestro"
      ],
      "metadata": {
        "id": "_8H7SyAyv0MW"
      }
    },
    {
      "cell_type": "code",
      "execution_count": null,
      "metadata": {
        "id": "El8XMJ_JvuAV"
      },
      "outputs": [],
      "source": [
        "!wget https://storage.googleapis.com/magentadata/datasets/maestro/v3.0.0/maestro-v3.0.0-midi.zip"
      ]
    },
    {
      "cell_type": "code",
      "source": [
        "!unzip maestro-v3.0.0-midi.zip"
      ],
      "metadata": {
        "id": "5N1VvfdSv47S"
      },
      "execution_count": null,
      "outputs": []
    },
    {
      "cell_type": "code",
      "source": [
        "!find . -name \"*.midi\" | wc -l"
      ],
      "metadata": {
        "id": "QOmewmnSv8uG"
      },
      "execution_count": null,
      "outputs": []
    },
    {
      "cell_type": "markdown",
      "source": [
        "## MIDI Functions"
      ],
      "metadata": {
        "id": "Oh1mT6xxDO3T"
      }
    },
    {
      "cell_type": "code",
      "source": [
        "import os\n",
        "import json\n",
        "import argparse\n",
        "import pretty_midi\n",
        "\n",
        "import numpy as np\n",
        "import scipy.io.wavfile as wav\n",
        "\n",
        "MIN_NOTE_MULTIPLIER = 0.125\n",
        "MIDI_EXTENSIONS = [\".mid\", \".midi\"]\n",
        "\n",
        "def load(datapath, pitch_range=(30, 96), velocity_range=(32, 127, 4), fs=1000, tempo=120, augmentation=(1, 1, 1)):\n",
        "    vocab = set()\n",
        "\n",
        "    if os.path.isfile(datapath):\n",
        "        text = load_file(datapath, pitch_range, velocity_range, fs, tempo, augmentation)\n",
        "        vocab = set(text.split(\" \"))\n",
        "    else:\n",
        "        vocab = load_dir(datapath, pitch_range, velocity_range, fs, tempo, augmentation)\n",
        "\n",
        "    return vocab\n",
        "\n",
        "def load_dir(dirpath, pitch_range=(30, 96), velocity_range=(32, 127, 4), fs=1000, tempo=120, augmentation=(1, 1, 1)):\n",
        "    vocab = set()\n",
        "\n",
        "    for dir, _ , files in os.walk(dirpath):\n",
        "        for i, f in enumerate(files):\n",
        "            filepath = os.path.join(dir, f)\n",
        "\n",
        "            text = load_file(filepath, pitch_range, velocity_range, fs, tempo, augmentation)\n",
        "            if text != '':\n",
        "                vocab = vocab | set(text.split(\" \"))\n",
        "\n",
        "    return vocab\n",
        "\n",
        "def load_file(filepath, pitch_range=(30, 96), velocity_range=(32, 127, 4), fs=1000, tempo=120, augmentation=(1, 1, 1)):\n",
        "    text = []\n",
        "\n",
        "    # Check if it is a midi file\n",
        "    filename, extension = os.path.splitext(filepath)\n",
        "    if extension.lower() in MIDI_EXTENSIONS:\n",
        "        print(\"Encoding file...\", filepath)\n",
        "\n",
        "        # If txt version of the midi already exists, load data from it\n",
        "        if os.path.isfile(filename + \".txt\"):\n",
        "            with open(filename + \".txt\", \"r\") as midi_txt:\n",
        "                text = midi_txt.read().split(\" \")\n",
        "        else:\n",
        "            try:\n",
        "                midi_data = pretty_midi.PrettyMIDI(filepath)\n",
        "            except KeyboardInterrupt:\n",
        "                print(\"Exiting due to keyboard interrupt\")\n",
        "                quit()\n",
        "            except:\n",
        "                return \" \".join(text)\n",
        "\n",
        "            text = midi2text(midi_data, pitch_range, velocity_range, fs, tempo, augmentation)\n",
        "            with open(filename + \".txt\", \"w\") as midi_txt:\n",
        "                midi_txt.write(\" \".join(text))\n",
        "\n",
        "    return \" \".join(text)\n",
        "\n",
        "def midi2text(midi_data, pitch_range=(30, 96), velocity_range=(32, 127, 4), fs=1000, tempo=120, augmentation=(1, 1, 1)):\n",
        "    text = []\n",
        "\n",
        "    # Parse notes and tempo changes from the midi data\n",
        "    midi_notes = parse_notes_from_midi(midi_data, fs)\n",
        "\n",
        "    transpose, time_stretch, velo_stretch = augmentation\n",
        "    transpose_range    = (-transpose//2 + 1, transpose//2 + 1)\n",
        "    time_stretch_range = (-time_stretch//2 + 1, time_stretch//2 + 1)\n",
        "    velo_stretch_range = (-velo_stretch//2 + 1, velo_stretch//2 + 1)\n",
        "\n",
        "    for i in range(transpose_range[0], transpose_range[1]):\n",
        "        for j in range(time_stretch_range[0], time_stretch_range[1]):\n",
        "            for k in range(velo_stretch_range[0], velo_stretch_range[1]):\n",
        "                last_start = last_duration = last_velocity = 0;\n",
        "\n",
        "                for start, time_step_notes in sorted(midi_notes.items()):\n",
        "                    wait_duration = get_note_duration((start - last_start)/fs, tempo, stretch=j)\n",
        "                    if wait_duration > 0:\n",
        "                        if wait_duration != last_duration:\n",
        "                            text.append(\"d_\" + str(wait_duration))\n",
        "                            last_duration = wait_duration\n",
        "\n",
        "                        text.append(\"a\")\n",
        "\n",
        "                    for note in time_step_notes:\n",
        "                        note_pitch  = clamp_pitch(note[\"pitch\"] + i, pitch_range)\n",
        "                        note_velocity = clamp_velocity(note[\"velocity\"] + k * 8 * velocity_range[2], velocity_range)\n",
        "                        note_duration = get_note_duration(note[\"duration\"]/fs, tempo, stretch=j)\n",
        "\n",
        "                        if note_velocity > 0 and note_duration > 0:\n",
        "                            if note_velocity != last_velocity:\n",
        "                                text.append(\"v_\" + str(note_velocity))\n",
        "                                last_velocity = note_velocity\n",
        "\n",
        "                            if note_duration != last_duration:\n",
        "                                text.append(\"d_\" + str(note_duration))\n",
        "                                last_duration = note_duration\n",
        "\n",
        "                            text.append(\"n_\" + str(note_pitch))\n",
        "\n",
        "                    last_start = start\n",
        "\n",
        "                text.append(\"\\n\")\n",
        "\n",
        "    return text\n",
        "\n",
        "def parse_notes_from_midi(midi_data, fs):\n",
        "    notes = {}\n",
        "\n",
        "    for instrument in midi_data.instruments:\n",
        "        for note in instrument.notes:\n",
        "            start, end = int(fs * note.start), int(fs * note.end)\n",
        "\n",
        "            if start not in notes:\n",
        "                notes[start] = []\n",
        "\n",
        "            notes[start].append({\n",
        "                \"pitch\": note.pitch,\n",
        "             \"duration\": end - start,\n",
        "             \"velocity\": note.velocity})\n",
        "\n",
        "    return notes\n",
        "\n",
        "def text2midi(text, tempo):\n",
        "    notes = parse_notes_from_text(text, tempo)\n",
        "\n",
        "    # Create a PrettyMIDI object\n",
        "    midi = pretty_midi.PrettyMIDI(initial_tempo=tempo)\n",
        "\n",
        "    # Create an Instrument instance for a piano instrument\n",
        "    piano_program = pretty_midi.instrument_name_to_program('Acoustic Grand Piano')\n",
        "    piano = pretty_midi.Instrument(program=piano_program)\n",
        "\n",
        "    # Add notes\n",
        "    for n in notes:\n",
        "        piano.notes.append(n)\n",
        "\n",
        "    midi.instruments.append(piano)\n",
        "\n",
        "    return midi\n",
        "\n",
        "def parse_total_duration_from_text(text, tempo=120):\n",
        "    duration, total_duration = 0, 0\n",
        "    for token in text.split(\" \"):\n",
        "        if token[0] == \"a\":\n",
        "            total_duration += duration\n",
        "\n",
        "        elif token[0] == \"d\":\n",
        "            duration = int(token.split(\"_\")[1])\n",
        "\n",
        "    # Compute duration of shortest note\n",
        "    min_duration = MIN_NOTE_MULTIPLIER * 60/tempo\n",
        "\n",
        "    return total_duration * min_duration\n",
        "\n",
        "def parse_notes_from_text(text, tempo):\n",
        "    notes = []\n",
        "\n",
        "    # Set default velocity\n",
        "    velocity = 100\n",
        "\n",
        "    # Set default duration\n",
        "    duration = 8\n",
        "\n",
        "    # Compute duration of shortest note\n",
        "    min_duration = MIN_NOTE_MULTIPLIER * 60/tempo\n",
        "\n",
        "    i = 0\n",
        "    for token in text.split(\" \"):\n",
        "        if token[0] == \"a\":\n",
        "            i += duration\n",
        "\n",
        "        elif token[0] == \"n\":\n",
        "            pitch = int(token.split(\"_\")[1])\n",
        "            note = pretty_midi.Note(velocity, pitch, start=i * min_duration, end=(i + duration) * min_duration)\n",
        "            notes.append(note)\n",
        "\n",
        "        elif token[0] == \"d\":\n",
        "            duration = int(token.split(\"_\")[1])\n",
        "\n",
        "        elif token[0] == \"v\":\n",
        "            velocity = int(token.split(\"_\")[1])\n",
        "\n",
        "    return notes\n",
        "\n",
        "def clamp_velocity(velocity, velocity_range):\n",
        "    min_velocity, max_velocity, step = velocity_range\n",
        "\n",
        "    velocity = max(min(velocity, max_velocity), min_velocity)\n",
        "    velocity = (velocity//step) * step\n",
        "\n",
        "    return velocity\n",
        "\n",
        "def clamp_pitch(pitch, pitch_range):\n",
        "    min, max = pitch_range\n",
        "\n",
        "    while pitch < min:\n",
        "        pitch += 12\n",
        "    while pitch >= max:\n",
        "        pitch -= 12\n",
        "\n",
        "    return pitch\n",
        "\n",
        "def get_note_duration(dt, tempo, stretch=0, max_duration=56, percentage=0.15):\n",
        "    min_duration = MIN_NOTE_MULTIPLIER * 60/tempo\n",
        "\n",
        "    dt += dt * percentage * stretch\n",
        "\n",
        "    # Compute how many 32th notes fit inside the given note\n",
        "    note_duration = round(dt/min_duration)\n",
        "\n",
        "    # Clamp note duration\n",
        "    note_duration = min(note_duration, max_duration)\n",
        "\n",
        "    return note_duration\n",
        "\n",
        "def save_vocab(vocab, vocab_path):\n",
        "    # Create dict to support char to index conversion\n",
        "    char2idx = { char:i for i,char in enumerate(sorted(vocab)) }\n",
        "\n",
        "    # Save char2idx encoding as a json file for generate midi later\n",
        "    with open(vocab_path, \"w\") as f:\n",
        "        json.dump(char2idx, f)\n",
        "\n",
        "def write(text, path, synthesize=False, tempo=120):\n",
        "    SF2_PATH=\"soundfonts/salc5light-piano.sf2\"\n",
        "\n",
        "    WAV_32INT_MAX = 2147483648\n",
        "\n",
        "    midi = text2midi(text, tempo)\n",
        "    midi.write(path + \".mid\")\n",
        "\n",
        "    if synthesize:\n",
        "        audio = midi.fluidsynth(sf2_path=SF2_PATH)\n",
        "        # Convert signal from float to int\n",
        "        audio = np.int32(audio/np.max(np.abs(audio)) * WAV_32INT_MAX)\n",
        "\n",
        "        wav.write(path + \".wav\", 44100, audio)\n"
      ],
      "metadata": {
        "id": "I2Iod9ndDRI3"
      },
      "execution_count": null,
      "outputs": []
    },
    {
      "cell_type": "markdown",
      "source": [
        "## midi2text.py"
      ],
      "metadata": {
        "id": "Gh5smSHdIYtK"
      }
    },
    {
      "cell_type": "code",
      "source": [
        "import glob\n",
        "from music21 import converter, instrument, note, chord, interval, pitch\n",
        "import sys\n",
        "from tqdm import tqdm\n",
        "\n",
        "def valid_note(note_number):\n",
        "    return -12*5 <= note_number <= 12*5\n",
        "\n",
        "def first_note(notes_to_parse):\n",
        "    for element in notes_to_parse:\n",
        "        try:\n",
        "            if isinstance(element, note.Note):\n",
        "                return int(element.pitch.ps)\n",
        "            if isinstance(element, chord.Chord):\n",
        "                return int(element.notes[-1].pitch.ps)\n",
        "        except:\n",
        "            pass\n",
        "    return 60\n",
        "\n",
        "def midi2text(midis_folder):\n",
        "    \"\"\" Get all the notes and chords from the midi files in the ./midi_songs directory \"\"\"\n",
        "    notes = []\n",
        "\n",
        "    midis = sorted(glob.glob(f\"{midis_folder}/*.mid\"))\n",
        "\n",
        "    for file in tqdm(midis):\n",
        "        try:\n",
        "            midi = converter.parse(file)\n",
        "\n",
        "            # Transpose to C\n",
        "            k = midi.analyze('key')\n",
        "            i = interval.Interval(k.tonic, pitch.Pitch('C4'))\n",
        "            midi = midi.transpose(i)\n",
        "            mode = str(k.mode)\n",
        "\n",
        "            #print(\"Parsing %s\" % file)\n",
        "\n",
        "            notes_to_parse = None\n",
        "\n",
        "            try: # file has instrument parts\n",
        "                s2 = instrument.partitionByInstrument(midi)\n",
        "                notes_to_parse = s2.parts[0].recurse() \n",
        "            except: # file has notes in a flat structure\n",
        "                notes_to_parse = midi.flat.notes\n",
        "\n",
        "            notes.append(f\"{mode} =>\")\n",
        "\n",
        "            last_note = first_note(notes_to_parse)\n",
        "\n",
        "            for element in notes_to_parse:\n",
        "                try:\n",
        "                    #print(last_note)\n",
        "                    if isinstance(element, note.Note):\n",
        "                        duration = element.duration.quarterLength\n",
        "                        new_note = int(element.pitch.ps)\n",
        "\n",
        "                        if duration > 0 and valid_note(new_note - last_note):\n",
        "                            notes.append(f\"{str(new_note - last_note)}|{duration}\")\n",
        "                            last_note = new_note\n",
        "                    elif isinstance(element, note.Rest):\n",
        "                        duration = element.duration.quarterLength\n",
        "                        if 0 < duration < 32:\n",
        "                            notes.append(f\"R|{duration}\")\n",
        "                    elif isinstance(element, chord.Chord):\n",
        "                        duration = element.duration.quarterLength\n",
        "                        chord_notes = [int(new_note.pitch.ps)-last_note for new_note in element.notes if valid_note(int(new_note.pitch.ps)-last_note)]\n",
        "                        if duration > 0 and len(chord_notes) > 0:\n",
        "                            notes.append('.'.join(map(str,chord_notes)) + \"|\" + str(duration))\n",
        "                            last_note = int(element.notes[0].pitch.ps)\n",
        "                except:\n",
        "                    pass\n",
        "            notes.append(\"\\n\")\n",
        "        except:\n",
        "            pass\n",
        "    with open('notes.txt', 'w') as filepath:\n",
        "        filepath.write(\" \".join(notes).replace(\"\\n \",\"\\n\").strip())\n"
      ],
      "metadata": {
        "id": "yHFQiQ8jIaIz"
      },
      "execution_count": null,
      "outputs": []
    },
    {
      "cell_type": "markdown",
      "source": [
        "## text2midi.py"
      ],
      "metadata": {
        "id": "Eo78rgZfIecH"
      }
    },
    {
      "cell_type": "code",
      "source": [
        "import numpy\n",
        "from music21 import instrument, note, stream, chord\n",
        "import sys\n",
        "import numpy as np\n",
        "\n",
        "def convert_to_float(frac_str):\n",
        "    try:\n",
        "        return float(frac_str)\n",
        "    except ValueError:\n",
        "        num, denom = frac_str.split('/')\n",
        "        try:\n",
        "            leading, num = num.split(' ')\n",
        "            whole = float(leading)\n",
        "        except ValueError:\n",
        "            whole = 0\n",
        "        frac = float(num) / float(denom)\n",
        "        return whole - frac if whole < 0 else whole + frac\n",
        "\n",
        "def note_number_to_name(note_number):\n",
        "    #print(note_number)\n",
        "    semis = ['C', 'C#', 'D', 'D#', 'E', 'F', 'F#', 'G', 'G#', 'A', 'A#', 'B']\n",
        "\n",
        "    # Ensure the note is an int\n",
        "    note_number = int(np.round(note_number))\n",
        "\n",
        "    # Get the semitone and the octave, and concatenate to create the name\n",
        "    output = semis[note_number % 12] + str(note_number//12 - 1)\n",
        "    #print(output)\n",
        "    return output\n",
        "\n",
        "\n",
        "def duration(note_text):\n",
        "    if \"|\" in note_text:\n",
        "        return convert_to_float(note_text.split(\"|\")[-1])\n",
        "    # It's invalid but's let's return 0.5 to make it more resilient\n",
        "    else:\n",
        "        return 0.5\n",
        "\n",
        "def create_midi(notes_sequence,output_file=\"output.mid\"):\n",
        "    offset = 0\n",
        "    output_notes = []\n",
        "\n",
        "    prev_note = 60\n",
        "    # create note and chord objects based on the values generated by the model\n",
        "    for token in notes_sequence:\n",
        "        # starting token\n",
        "        if token == \"S\":\n",
        "            continue\n",
        "        token_duration = duration(token)\n",
        "        token = token.split(\"|\")[0]\n",
        "\n",
        "        # token is a chord\n",
        "        if '.' in token:\n",
        "            notes_in_chord = token.split('.')\n",
        "            notes = []\n",
        "            for current_note in notes_in_chord:\n",
        "\n",
        "                new_note = note.Note(note_number_to_name(prev_note+int(current_note)))\n",
        "                new_note.storedInstrument = instrument.Piano()\n",
        "                notes.append(new_note)\n",
        "            prev_note = int(notes_in_chord[0]) + prev_note\n",
        "            new_chord = chord.Chord(notes,quarterLength=token_duration)\n",
        "            new_chord.offset = offset\n",
        "            output_notes.append(new_chord)\n",
        "        # token is a rest\n",
        "        elif \"R\" in token:\n",
        "            output_notes.append(note.Rest(quarterLength=token_duration))\n",
        "        # token is a single note\n",
        "        else:\n",
        "            new_note = note.Note(note_number_to_name(prev_note+int(token)),quarterLength=token_duration)\n",
        "            prev_note = int(token) + prev_note\n",
        "            new_note.offset = offset\n",
        "            new_note.storedInstrument = instrument.Piano()\n",
        "            output_notes.append(new_note)\n",
        "\n",
        "        # increase offset each iteration so that notes do not stack\n",
        "        offset += token_duration\n",
        "\n",
        "    midi_stream = stream.Stream(output_notes)\n",
        "\n",
        "    midi_stream.write('midi', fp=output_file)\n"
      ],
      "metadata": {
        "id": "BC3sc1rnIhV7"
      },
      "execution_count": null,
      "outputs": []
    },
    {
      "cell_type": "markdown",
      "source": [
        "## Data Preprocess"
      ],
      "metadata": {
        "id": "rGkEpTCnIvp0"
      }
    },
    {
      "cell_type": "code",
      "source": [
        "%cd /content\n",
        "!rm -fr adl-piano-midi"
      ],
      "metadata": {
        "id": "2v3in8feI-Pd"
      },
      "execution_count": null,
      "outputs": []
    },
    {
      "cell_type": "code",
      "source": [
        "load('adl-piano-midi', augmentation=(1, 1, 1))"
      ],
      "metadata": {
        "id": "7RmQREsH5c-b"
      },
      "execution_count": null,
      "outputs": []
    },
    {
      "cell_type": "code",
      "source": [
        "!cd..; find adl-piano-midi -name \"*.txt\" -exec cat {} \\; > /content/drive/MyDrive/midi.txt"
      ],
      "metadata": {
        "id": "YhQZ8xclvHHq"
      },
      "execution_count": null,
      "outputs": []
    },
    {
      "cell_type": "code",
      "source": [
        "# !wget https://github.com/lucasnfe/adl-piano-midi/archive/refs/heads/master.zip\n",
        "# !unzip master.zip; unzip adl-piano-midi-master/midi/adl-piano-midi.zip"
      ],
      "metadata": {
        "id": "Z-_eSGm4JAJa"
      },
      "execution_count": null,
      "outputs": []
    },
    {
      "cell_type": "code",
      "source": [
        "# midi2text('adl-piano-midi')\n",
        "# midi2text('adl-piano-midi/Folk/Nordic Folk/Mari Boine/')"
      ],
      "metadata": {
        "id": "LTpjdTB4IzjO"
      },
      "execution_count": null,
      "outputs": []
    },
    {
      "cell_type": "code",
      "source": [
        "# !cat notes.txt"
      ],
      "metadata": {
        "id": "baGkQlcgJccB"
      },
      "execution_count": null,
      "outputs": []
    },
    {
      "cell_type": "markdown",
      "source": [
        "## Train"
      ],
      "metadata": {
        "id": "nCfuI2Zsw3c-"
      }
    },
    {
      "cell_type": "code",
      "source": [
        "!git clone https://github.com/infinfin/text-diffusion"
      ],
      "metadata": {
        "id": "8FRbb85WxIta"
      },
      "execution_count": null,
      "outputs": []
    },
    {
      "cell_type": "code",
      "source": [
        "%cd text-diffusion"
      ],
      "metadata": {
        "id": "tDa8tR_rxK1z"
      },
      "execution_count": null,
      "outputs": []
    },
    {
      "cell_type": "code",
      "source": [
        "!git pull"
      ],
      "metadata": {
        "id": "krZLVm4xD2Fc"
      },
      "execution_count": null,
      "outputs": []
    },
    {
      "cell_type": "code",
      "source": [
        "!cp /content/drive/MyDrive/midi.txt /content\n",
        "!mkdir -p data/midi"
      ],
      "metadata": {
        "id": "2nZ-0xg0xNkk"
      },
      "execution_count": null,
      "outputs": []
    },
    {
      "cell_type": "code",
      "source": [
        "# max length\n",
        "MAX_LEN = 256 - 2\n",
        "data = []\n",
        "with open('/content/midi.txt', 'r') as f:\n",
        "    for _ in f:\n",
        "        _ = _.strip()\n",
        "        s = _.split(' ')\n",
        "        \n",
        "        while len(s) > MAX_LEN:\n",
        "            data.append(s[:MAX_LEN])\n",
        "            s = s[MAX_LEN:]\n",
        "\n",
        "print(len(data), max(len(_) for _ in data))\n",
        "\n",
        "with open('data/midi/midi.txt', 'w') as f:\n",
        "    for _ in data:\n",
        "        f.write(' '.join(_) + '\\n')"
      ],
      "metadata": {
        "id": "jVo9hbAOxPUg"
      },
      "execution_count": null,
      "outputs": []
    },
    {
      "cell_type": "code",
      "source": [
        "!head data/midi/midi.txt"
      ],
      "metadata": {
        "id": "-jJGLhNACp80"
      },
      "execution_count": null,
      "outputs": []
    },
    {
      "cell_type": "code",
      "source": [
        "# tokenizing\n",
        "!python src/utils/custom_tokenizer.py train-word-level data/midi/midi.txt"
      ],
      "metadata": {
        "id": "qWz8CT6Ixt20"
      },
      "execution_count": null,
      "outputs": []
    },
    {
      "cell_type": "code",
      "source": [
        "# split dataset\n",
        "# !head -n 240000 data/midi/midi.txt > data/midi-train.txt\n",
        "# !tail -n 9228 data/midi/midi.txt > data/midi-test.txt\n",
        "!head -n 120000 data/midi/midi.txt > data/midi-train.txt\n",
        "!tail -n 2878 data/midi/midi.txt > data/midi-test.txt\n",
        "!wc -l data/midi-train.txt\n",
        "!wc -l data/midi-test.txt"
      ],
      "metadata": {
        "id": "W0jvUxQnxxdD"
      },
      "execution_count": null,
      "outputs": []
    },
    {
      "cell_type": "code",
      "source": [
        "!sed -i 's/log_interval 2/log_interval 10/g' scripts/run_train.sh\n",
        "!sed -i 's/save_interval 10 /save_interval 500 /g' scripts/run_train.sh\n",
        "!grep log_interval scripts/run_train.sh\n",
        "!grep save_interval scripts/run_train.sh"
      ],
      "metadata": {
        "id": "8AmA4QNDx4pv"
      },
      "execution_count": null,
      "outputs": []
    },
    {
      "cell_type": "code",
      "source": [
        "# choose nn model\n",
        "!sed -i 's/USE_BERT = 1/USE_BERT = 0/' src/modeling/predictor/transformer_model.py\n",
        "!grep USE_BERT src/modeling/predictor/transformer_model.py"
      ],
      "metadata": {
        "id": "lfzuQCRfx-0-"
      },
      "execution_count": null,
      "outputs": []
    },
    {
      "cell_type": "code",
      "source": [
        "!rm -fr ckpts; mkdir ckpts\n",
        "!mkdir -p /content/drive/MyDrive/midi/bert2; ln -s /content/drive/MyDrive/midi/bert2 ckpts/midi"
      ],
      "metadata": {
        "id": "R2K20UDq7lEm"
      },
      "execution_count": null,
      "outputs": []
    },
    {
      "cell_type": "code",
      "source": [
        "# DSET=${1:-simple}\n",
        "\n",
        "# GPU=${2:-0}\n",
        "\n",
        "# INIT_PRETRAINED_MODEL=${3:-\"True\"}\n",
        "# USE_PRETRAINED_EMBEDDINGS=${4:-\"True\"}\n",
        "# FREEZE_EMBEDDINGS=${5:-\"False\"}\n",
        "\n",
        "# LR_ANNEAL_STEPS=${6:-25001}\n",
        "# LR=${7:-0.0001}\n",
        "\n",
        "# DIFFUSION_STEPS=${8:-2000}\n",
        "# NOISE_SCHEDULE=${9:-sqrt}\n",
        "\n",
        "# BATCH_SIZE=${10:-64}\n",
        "# SEQ_LEN=${11:-50}\n",
        "\n",
        "!PYTHONPATH=.:src; TOKENIZERS_PARALLELISM=false; bash scripts/run_train.sh midi 0  False False False  5000 0.0001  2000 sqrt  16  512"
      ],
      "metadata": {
        "id": "iJSFhfhwyCPB"
      },
      "execution_count": null,
      "outputs": []
    },
    {
      "cell_type": "code",
      "source": [
        "!rm -fr ckpts/midi/*000000*\n",
        "!cp -r ckpts /content/drive/MyDrive/"
      ],
      "metadata": {
        "id": "oLDxp0PVALMG"
      },
      "execution_count": null,
      "outputs": []
    },
    {
      "cell_type": "markdown",
      "source": [
        "## Generation"
      ],
      "metadata": {
        "id": "d0WPJvTG2HbU"
      }
    },
    {
      "cell_type": "code",
      "source": [
        "!cp -r /content/drive/MyDrive/ckpts ."
      ],
      "metadata": {
        "id": "LNXzPrWh-c8K"
      },
      "execution_count": null,
      "outputs": []
    },
    {
      "cell_type": "code",
      "source": [
        "# !sed -i 's/BATCH_SIZE=${5:-50}/BATCH_SIZE=${5:-10}/g' scripts/text_sample.sh"
      ],
      "metadata": {
        "id": "GUPiiA3x2JBS"
      },
      "execution_count": null,
      "outputs": []
    },
    {
      "cell_type": "code",
      "source": [
        "!PYTHONPATH=.:src; CUDA_VISIBLE_DEVICES=0; bash scripts/text_sample.sh ckpts/midi/ema_0.9999_002000.pt 1000 10 '' 10\n",
        "# !PYTHONPATH=.:src; bash scripts/text_sample.sh ckpts/midi/ema_0.9999_001000.pt 20 3"
      ],
      "metadata": {
        "id": "UmHG0nsw2Mcl"
      },
      "execution_count": null,
      "outputs": []
    },
    {
      "cell_type": "code",
      "source": [
        "!head ckpts/midi/ema_0.9999_001000.pt.samples_10.steps-1000.clamp-no_clamp.txt\n",
        "!head ckpts/midi/ema_0.9999_002000.pt.samples_10.steps-1000.clamp-no_clamp.txt"
      ],
      "metadata": {
        "id": "Jwg09CCKB7lk"
      },
      "execution_count": null,
      "outputs": []
    },
    {
      "cell_type": "code",
      "source": [
        "f = 'ckpts/midi/ema_0.9999_001000.pt.samples_10.steps-1000.clamp-no_clamp.txt'\n",
        "with open(f) as f:\n",
        "    for i in range(10):\n",
        "        text = f.readline().strip()\n",
        "        print(text)\n",
        "        text = text.replace('[CLS] ', '').replace(' [PAD]', '').replace(' [UNK]', '').replace(' [MASK]', '').replace(' [SEP]', '')\n",
        "        midi = text2midi(text, tempo=120)\n",
        "        out = f\"{i}.mid\"\n",
        "        midi.write(out)"
      ],
      "metadata": {
        "id": "I7goAGDl6uWp"
      },
      "execution_count": null,
      "outputs": []
    },
    {
      "cell_type": "code",
      "source": [
        "!gdown \"https://drive.google.com/u/0/uc?id=0B5gPxvwx-I4KWjZ2SHZOLU42dHM&export=download\"\n",
        "!unzip SALC5-Light-SF-v2_7.zip"
      ],
      "metadata": {
        "id": "oEngLVI8DdWW"
      },
      "execution_count": null,
      "outputs": []
    },
    {
      "cell_type": "code",
      "source": [
        "!for f in *.mid; do fluidsynth -ni SalC5Light2.sf2 $f -F $f.wav -r 44100; done"
      ],
      "metadata": {
        "id": "ja0wJB8Q6wij"
      },
      "execution_count": null,
      "outputs": []
    },
    {
      "cell_type": "code",
      "source": [
        "from IPython.display import Audio\n",
        "display(Audio('9.mid.wav', autoplay=not True))"
      ],
      "metadata": {
        "id": "7KDI2jKfE__w"
      },
      "execution_count": null,
      "outputs": []
    },
    {
      "cell_type": "code",
      "source": [
        "# import glob\n",
        "# from IPython.display import Audio\n",
        "# for f in glob.glob(\"*.wav\"):\n",
        "#     display(Audio(f, autoplay=not True))\n",
        "#     break"
      ],
      "metadata": {
        "id": "Yp4OQM0y6yP0"
      },
      "execution_count": null,
      "outputs": []
    }
  ]
}